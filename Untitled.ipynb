{
 "cells": [
  {
   "cell_type": "code",
   "execution_count": 3,
   "id": "0436898f",
   "metadata": {},
   "outputs": [],
   "source": [
    "# testing sentinel_2_tif\n",
    "from sentinel_2_tif.spatial import mbr, mbr_buffer, mbr_buffers\n",
    "from sentinel_2_tif.temporal import time_wrapper, time_windows\n",
    "from sentinel_2_tif.search import st_grid\n",
    "from sentinel_2_tif.pipeline import tif_generator"
   ]
  },
  {
   "cell_type": "code",
   "execution_count": 10,
   "id": "afddd5e1",
   "metadata": {},
   "outputs": [
    {
     "name": "stdout",
     "output_type": "stream",
     "text": [
      "Help on function tif_generator in module sentinel_2_tif.pipeline:\n",
      "\n",
      "tif_generator(scene_search, out_dir='./Collected TIFF Files', stac_url='https://planetarycomputer.microsoft.com/api/stac/v1', collection='sentinel-2-l2a', cloud_lt=30, resolution_m=10, crs='EPSG:4326', dtype='uint16', chunks={'x': 2048, 'y': 2048}, composite='median', sign_items=True, sleep_sec=0.0, stop_after_first=False, suppress_notgeo=True, progress=True)\n",
      "    Pulls Sentinel-2 scenes (via Planetary Computer STAC) for each (bbox, time_window),\n",
      "    composites them (median or mean), writes GeoTIFFs, and returns a summary.\n",
      "\n",
      "    Parameters\n",
      "    ----------\n",
      "    scene_search : iterable of (Polygon, str)\n",
      "        Each item is (bbox_polygon, \"YYYY-MM-DD/YYYY-MM-DD\").\n",
      "    out_dir : str\n",
      "        Output directory for GeoTIFF files.\n",
      "    stac_url : str\n",
      "        STAC endpoint (default: Planetary Computer).\n",
      "    collection : str\n",
      "        STAC collection (default: 'sentinel-2-l2a').\n",
      "    cloud_lt : int\n",
      "        Cloud cover threshold (percent).\n",
      "    resolution_m : float\n",
      "        Meters per pixel to scale (converted to degrees for EPSG:4326).\n",
      "    crs : str\n",
      "        Target CRS used for stac_load and for writing CRS metadata.\n",
      "    dtype : str\n",
      "        Dtype for the xarray.\n",
      "    chunks : dict\n",
      "        Dask chunking for xarray (stackstac).\n",
      "    composite : str\n",
      "        'median' or 'mean' compositing across time.\n",
      "    sign_items : bool\n",
      "        If True, sign items with planetary_computer.sign for robustness.\n",
      "    sleep_sec : float\n",
      "        Sleep between iterations to reduce rate limiting.\n",
      "    stop_after_first : bool\n",
      "        Stop after first successful write (mirrors your earlier behavior with `break`).\n",
      "    suppress_notgeo : bool\n",
      "        Suppress NotGeoreferencedWarning messages during write.\n",
      "    progress : bool\n",
      "        Show a tqdm progress bar.\n",
      "\n",
      "    Returns\n",
      "    -------\n",
      "    dict\n",
      "        {\n",
      "          \"written\": [list of output file paths],\n",
      "          \"failed\":  [(bbox, time_window, error_message), ...],\n",
      "          \"n_attempted\": int,\n",
      "          \"n_written\": int,\n",
      "          \"n_failed\": int\n",
      "        }\n",
      "\n"
     ]
    }
   ],
   "source": [
    "help(tif_generator)"
   ]
  }
 ],
 "metadata": {
  "kernelspec": {
   "display_name": "Python 3 (ipykernel)",
   "language": "python",
   "name": "python3"
  },
  "language_info": {
   "codemirror_mode": {
    "name": "ipython",
    "version": 3
   },
   "file_extension": ".py",
   "mimetype": "text/x-python",
   "name": "python",
   "nbconvert_exporter": "python",
   "pygments_lexer": "ipython3",
   "version": "3.12.11"
  }
 },
 "nbformat": 4,
 "nbformat_minor": 5
}
